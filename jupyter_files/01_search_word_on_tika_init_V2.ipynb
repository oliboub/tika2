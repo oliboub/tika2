{
 "cells": [
  {
   "cell_type": "code",
   "execution_count": 1,
   "id": "0f835641-f533-4d46-9cbe-4679d5bc0b79",
   "metadata": {},
   "outputs": [],
   "source": [
    "import PySimpleGUI as sg\n",
    "import pandas as pd"
   ]
  },
  {
   "cell_type": "code",
   "execution_count": 2,
   "id": "2662b4ce-4b25-4b29-84aa-b95f19071ee0",
   "metadata": {},
   "outputs": [],
   "source": [
    "import global_variables as g\n",
    "g.init()\n",
    "\n",
    "category=g.category\n",
    "\n",
    "output_directory=category+'_results'"
   ]
  },
  {
   "cell_type": "code",
   "execution_count": 3,
   "id": "442a9017-2acc-47a5-a07a-dab78d6ea999",
   "metadata": {},
   "outputs": [],
   "source": [
    "import PySimpleGUI as sg\n",
    "layout = [[sg.T('Please select a file:'), sg.I(key='-CSV-', enable_events=True),sg.FileBrowse(file_types=(('csv files',['*.csv']),('CSV','*.csv')))],\n",
    "         [sg.Text('Entrer le mot recherché:'), sg.I(key='-MOT-')],\n",
    "         [ sg.Ok(), sg.Cancel()]]\n",
    "window=sg.Window('File Browser', layout)\n",
    "while True:\n",
    "    events, values = window.read()\n",
    "    if events == 'Cancel' or events == sg.WIN_CLOSED:\n",
    "        window.close()\n",
    "        break\n",
    "    elif events == 'Ok':\n",
    "        if g.DEBUG_OL >= 2:\n",
    "            print(events,values)\n",
    "        input_file = values['-CSV-']\n",
    "        recherche_mot = values['-MOT-']\n",
    "        if g.DEBUG_OL >= 2:\n",
    "            print(input_file,recherche_mot)        \n",
    "        window.close()"
   ]
  },
  {
   "cell_type": "code",
   "execution_count": 4,
   "id": "7cc09439-b684-4641-844a-15c6c1afe456",
   "metadata": {
    "tags": []
   },
   "outputs": [
    {
     "name": "stdout",
     "output_type": "stream",
     "text": [
      "max_columns: 33\n"
     ]
    }
   ],
   "source": [
    "import pandas as pd\n",
    "import numpy as np\n",
    "import csv\n",
    "\n",
    "\n",
    "#category='doc-photo'\n",
    "#category='doc-engineering'\n",
    "#category=\"doc-airbus\"\n",
    "\n",
    "#input_file = category+'__cloudword__level1.csv'\n",
    "\n",
    "output_file = output_directory+'/'+category+'__search__result__'+recherche_mot+'.csv'\n",
    "#output_dest2 = category+'__cloudword__dest2.csv'\n",
    "\n",
    "if g.DEBUG_OL >= 2:\n",
    "    print('input_file: ',input_file)\n",
    "    print('output_file:',output_file)\n",
    "\n",
    "reader = csv.reader(open(input_file))\n",
    "\n",
    "max_columns=0\n",
    "\n",
    "for row in reader:\n",
    "    if g.DEBUG_OL >= 2:\n",
    "        print(row)\n",
    "        print(len(row),row)\n",
    "    if len(row) > max_columns:\n",
    "        max_columns=len(row)\n",
    "print(\"max_columns:\",max_columns)"
   ]
  },
  {
   "cell_type": "code",
   "execution_count": 5,
   "id": "a905e22f-ce2c-4e84-8b4a-9e77f22def5c",
   "metadata": {
    "tags": []
   },
   "outputs": [
    {
     "name": "stdout",
     "output_type": "stream",
     "text": [
      "Lines: 23\n"
     ]
    }
   ],
   "source": [
    "reader = csv.reader(open(input_file))\n",
    "numlines = len(list(reader))\n",
    "if g.DEBUG_OL >= 1:\n",
    "    print(\"Lines:\",numlines)"
   ]
  },
  {
   "cell_type": "code",
   "execution_count": 6,
   "id": "89e00b45-7807-4184-bf2d-9c079d172e3e",
   "metadata": {
    "tags": []
   },
   "outputs": [
    {
     "name": "stdout",
     "output_type": "stream",
     "text": [
      "***** Fini! fichier: doc-engineering_results/doc-engineering__search__result__aluminium.csv  généré *****\n"
     ]
    }
   ],
   "source": [
    "col_headers= ['category','file']\n",
    "for aa in range(max_columns-1):\n",
    "    col_headers.append('M'+str(aa))\n",
    "\n",
    "if g.DEBUG_OL >= 2:\n",
    "    print('Col_headers:',col_headers)\n",
    "    \n",
    "\n",
    "#my_loaded_array = pd.read_csv(input_file,dtype=str,header=None,names=col_headers)\n",
    "my_loaded_array = pd.read_csv(input_file,dtype=str,names=col_headers)\n",
    "\n",
    "my_loaded_array=my_loaded_array.fillna('')\n",
    "if g.DEBUG_OL >= 2:\n",
    "    display(my_loaded_array)\n",
    "    \n",
    "array_values = my_loaded_array.values\n",
    "if g.DEBUG_OL >= 2:\n",
    "    print(array_values)\n",
    "\n",
    "if g.DEBUG_OL >= 2:\n",
    "    print(recherche_mot)\n",
    "\n",
    "toto=array_values[:,0:max_columns] == recherche_mot\n",
    "if g.DEBUG_OL >= 2:\n",
    "    print(toto)\n",
    "    \n",
    "cloud_word_lvl2 = open(output_file, 'w')\n",
    "coltitle= ','.join(col_headers)\n",
    "cloud_word_lvl2.write(coltitle)\n",
    "cloud_word_lvl2.write('\\x0A')\n",
    "for i in range(my_loaded_array.shape[0]):\n",
    "#    print(i,'\\t', toto[i,:])\n",
    "    if True in toto[i,:]:\n",
    "        if g.DEBUG_OL >= 2:\n",
    "            print(i,'OK')\n",
    "            print(array_values[i,0:])\n",
    "        TEMPstring = ','.join(array_values[i,:])\n",
    "        if g.DEBUG_OL >= 2:\n",
    "            print(TEMPstring)\n",
    "        cloud_word_lvl2.write(TEMPstring)\n",
    "        cloud_word_lvl2.write('\\x0A')\n",
    "#    else:\n",
    "#        if g.DEBUG_OL >= 2:\n",
    "#            print(i,'Not OK',array_values[i,0:])\n",
    "        \n",
    "cloud_word_lvl2.close()\n",
    "\n",
    "print('***** Fini! fichier:',output_file,' généré *****')"
   ]
  },
  {
   "cell_type": "code",
   "execution_count": null,
   "id": "a2470be1-fad4-4036-be8e-ec12d83ed8f0",
   "metadata": {},
   "outputs": [],
   "source": []
  }
 ],
 "metadata": {
  "kernelspec": {
   "display_name": "Python 3 (ipykernel)",
   "language": "python",
   "name": "python3"
  },
  "language_info": {
   "codemirror_mode": {
    "name": "ipython",
    "version": 3
   },
   "file_extension": ".py",
   "mimetype": "text/x-python",
   "name": "python",
   "nbconvert_exporter": "python",
   "pygments_lexer": "ipython3",
   "version": "3.11.2"
  }
 },
 "nbformat": 4,
 "nbformat_minor": 5
}
