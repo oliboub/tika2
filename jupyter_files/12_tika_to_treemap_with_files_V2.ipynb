{
 "cells": [
  {
   "attachments": {},
   "cell_type": "markdown",
   "id": "a5c8f08a-aa32-44fc-b780-90e4ea504c9f",
   "metadata": {},
   "source": [
    "# Launch treemap from result of Step3"
   ]
  },
  {
   "cell_type": "code",
   "execution_count": 1,
   "id": "0ee9cd44-7860-477d-ae63-4650f255cd0f",
   "metadata": {
    "tags": []
   },
   "outputs": [],
   "source": [
    "import os\n",
    "from tika import parser\n",
    "from datetime import datetime\n",
    "import numpy as np\n",
    "import pandas as pd\n",
    "import re\n",
    "import time\n",
    "import psutil\n",
    "import os\n",
    "import signal\n",
    "import glob\n",
    "import matplotlib.pyplot as plt\n",
    "import seaborn as sns\n",
    "import plotly.express as px\n",
    "\n",
    "start_time = time.time()"
   ]
  },
  {
   "cell_type": "code",
   "execution_count": 2,
   "id": "0621b872-240f-4757-9007-814051146ead",
   "metadata": {
    "tags": []
   },
   "outputs": [],
   "source": [
    "import global_variables as g\n",
    "g.init()\n",
    "category=g.category"
   ]
  },
  {
   "attachments": {},
   "cell_type": "markdown",
   "id": "570eafe2-58e5-41a6-83c9-13a4080d2a7d",
   "metadata": {},
   "source": [
    "## Prepare list of file to load"
   ]
  },
  {
   "cell_type": "code",
   "execution_count": 3,
   "id": "4246100b-9951-4fda-9c3f-50536cc658aa",
   "metadata": {},
   "outputs": [
    {
     "name": "stdout",
     "output_type": "stream",
     "text": [
      "doc-engineering__wordcounts__with_files.csv à traiter\n",
      "\n"
     ]
    }
   ],
   "source": [
    "now = datetime.now()\n",
    " \n",
    "#parallelism =  4 \n",
    "\n",
    "if g.DEBUG_OL >= 2:\n",
    "    print(\"now =\", now)\n",
    "\n",
    "# dd/mm/YY H:M:S\n",
    "dt_string = now.strftime(\"%d/%m/%Y %H:%M:%S\")\n",
    "#print(\"date and time =\", dt_string)\n",
    "\n",
    "#category=\"doc-engineering\"\n",
    "#category=\"doc-consoles\"\n",
    "#category=\"doc-electro\"\n",
    "#category=\"doc-photo\"\n",
    "#category=\"doc-airbus\"\n",
    "#category=\"doc-tests\"\n",
    "#dirlist = os.listdir(category+'_*.csv')\n",
    "my_input_file=category+'__wordcounts__with_files.csv'\n",
    "\n",
    "\n",
    "#print(dirlist)\n",
    "#for i in range(len(dirlist)):\n",
    "#    dirlist[i]=''.join(dirlist[i].split())\n",
    "    \n",
    "if g.DEBUG_OL >= 1:\n",
    "    print(my_input_file,'à traiter\\n')"
   ]
  },
  {
   "cell_type": "code",
   "execution_count": 4,
   "id": "88311983-de4f-45b7-acfc-3485985cdad1",
   "metadata": {
    "scrolled": true
   },
   "outputs": [
    {
     "data": {
      "text/html": [
       "<div>\n",
       "<style scoped>\n",
       "    .dataframe tbody tr th:only-of-type {\n",
       "        vertical-align: middle;\n",
       "    }\n",
       "\n",
       "    .dataframe tbody tr th {\n",
       "        vertical-align: top;\n",
       "    }\n",
       "\n",
       "    .dataframe thead th {\n",
       "        text-align: right;\n",
       "    }\n",
       "</style>\n",
       "<table border=\"1\" class=\"dataframe\">\n",
       "  <thead>\n",
       "    <tr style=\"text-align: right;\">\n",
       "      <th></th>\n",
       "      <th>words</th>\n",
       "      <th>count</th>\n",
       "      <th>file</th>\n",
       "    </tr>\n",
       "  </thead>\n",
       "  <tbody>\n",
       "    <tr>\n",
       "      <th>0</th>\n",
       "      <td>aircraft</td>\n",
       "      <td>1</td>\n",
       "      <td>test1.png</td>\n",
       "    </tr>\n",
       "    <tr>\n",
       "      <th>1</th>\n",
       "      <td>10010</td>\n",
       "      <td>1</td>\n",
       "      <td>test1.png</td>\n",
       "    </tr>\n",
       "    <tr>\n",
       "      <th>2</th>\n",
       "      <td>a320</td>\n",
       "      <td>1</td>\n",
       "      <td>test1.png</td>\n",
       "    </tr>\n",
       "    <tr>\n",
       "      <th>3</th>\n",
       "      <td>a330</td>\n",
       "      <td>16</td>\n",
       "      <td>A330 -2.jpeg</td>\n",
       "    </tr>\n",
       "    <tr>\n",
       "      <th>4</th>\n",
       "      <td>aircraft</td>\n",
       "      <td>5</td>\n",
       "      <td>A330 -2.jpeg</td>\n",
       "    </tr>\n",
       "    <tr>\n",
       "      <th>...</th>\n",
       "      <td>...</td>\n",
       "      <td>...</td>\n",
       "      <td>...</td>\n",
       "    </tr>\n",
       "    <tr>\n",
       "      <th>204</th>\n",
       "      <td>decks</td>\n",
       "      <td>1</td>\n",
       "      <td>a380.odt</td>\n",
       "    </tr>\n",
       "    <tr>\n",
       "      <th>205</th>\n",
       "      <td>story</td>\n",
       "      <td>1</td>\n",
       "      <td>a380.odt</td>\n",
       "    </tr>\n",
       "    <tr>\n",
       "      <th>206</th>\n",
       "      <td>double</td>\n",
       "      <td>1</td>\n",
       "      <td>a380.odt</td>\n",
       "    </tr>\n",
       "    <tr>\n",
       "      <th>207</th>\n",
       "      <td>bar</td>\n",
       "      <td>1</td>\n",
       "      <td>a380.odt</td>\n",
       "    </tr>\n",
       "    <tr>\n",
       "      <th>208</th>\n",
       "      <td>operations</td>\n",
       "      <td>1</td>\n",
       "      <td>a380.odt</td>\n",
       "    </tr>\n",
       "  </tbody>\n",
       "</table>\n",
       "<p>209 rows × 3 columns</p>\n",
       "</div>"
      ],
      "text/plain": [
       "          words  count          file\n",
       "0      aircraft      1     test1.png\n",
       "1         10010      1     test1.png\n",
       "2          a320      1     test1.png\n",
       "3          a330     16  A330 -2.jpeg\n",
       "4      aircraft      5  A330 -2.jpeg\n",
       "..          ...    ...           ...\n",
       "204       decks      1      a380.odt\n",
       "205       story      1      a380.odt\n",
       "206      double      1      a380.odt\n",
       "207         bar      1      a380.odt\n",
       "208  operations      1      a380.odt\n",
       "\n",
       "[209 rows x 3 columns]"
      ]
     },
     "execution_count": 4,
     "metadata": {},
     "output_type": "execute_result"
    }
   ],
   "source": [
    "my_loaded_array = pd.read_csv(my_input_file,encoding='utf-8')\n",
    "df_words = my_loaded_array\n",
    "df_words"
   ]
  },
  {
   "cell_type": "code",
   "execution_count": 5,
   "id": "139b7a50-6294-4937-a207-bf1fc8f99d14",
   "metadata": {},
   "outputs": [
    {
     "data": {
      "text/html": [
       "<iframe\n",
       "    scrolling=\"no\"\n",
       "    width=\"100%\"\n",
       "    height=\"545px\"\n",
       "    src=\"iframe_figures/figure_5.html\"\n",
       "    frameborder=\"0\"\n",
       "    allowfullscreen\n",
       "></iframe>\n"
      ]
     },
     "metadata": {},
     "output_type": "display_data"
    }
   ],
   "source": [
    "import plotly.express as px\n",
    "#fig = px.treemap(df_words, path=[px.Constant(\"test1-1.odt\",\"test1-2.odt\"), 'file','words'],\n",
    "fig = px.treemap(df_words, path=['file','words'],\n",
    "                 values='count',\n",
    "                 color='count', hover_data=['count'],\n",
    "                 color_continuous_scale='viridis',\n",
    "                 color_continuous_midpoint=np.average(df_words['count']),\n",
    "                 maxdepth=10\n",
    "                )\n",
    "fig.update_layout(margin = dict(t=0, l=0, r=0, b=0))\n",
    "\n",
    "\n",
    "import plotly.io as pio\n",
    "pio.renderers.default = 'iframe'\n",
    "\n",
    "fig.show()\n",
    "fig.write_image(category+'__treemap__files_wordscount.png')"
   ]
  },
  {
   "cell_type": "code",
   "execution_count": null,
   "id": "99d3cfa1-17be-470d-b167-7e018893a014",
   "metadata": {},
   "outputs": [],
   "source": []
  }
 ],
 "metadata": {
  "kernelspec": {
   "display_name": "Python 3 (ipykernel)",
   "language": "python",
   "name": "python3"
  },
  "language_info": {
   "codemirror_mode": {
    "name": "ipython",
    "version": 3
   },
   "file_extension": ".py",
   "mimetype": "text/x-python",
   "name": "python",
   "nbconvert_exporter": "python",
   "pygments_lexer": "ipython3",
   "version": "3.11.2"
  }
 },
 "nbformat": 4,
 "nbformat_minor": 5
}
