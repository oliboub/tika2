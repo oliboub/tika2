{
 "cells": [
  {
   "attachments": {},
   "cell_type": "markdown",
   "id": "a5c8f08a-aa32-44fc-b780-90e4ea504c9f",
   "metadata": {},
   "source": [
    "# Launch treemap from result of Step3"
   ]
  },
  {
   "cell_type": "code",
   "execution_count": 1,
   "id": "0ee9cd44-7860-477d-ae63-4650f255cd0f",
   "metadata": {
    "tags": []
   },
   "outputs": [],
   "source": [
    "import os\n",
    "from tika import parser\n",
    "from datetime import datetime\n",
    "import numpy as np\n",
    "import pandas as pd\n",
    "import re\n",
    "import time\n",
    "import psutil\n",
    "import os\n",
    "import signal\n",
    "import glob\n",
    "import matplotlib.pyplot as plt\n",
    "import seaborn as sns\n",
    "\n",
    "start_time = time.time()"
   ]
  },
  {
   "cell_type": "code",
   "execution_count": 2,
   "id": "0621b872-240f-4757-9007-814051146ead",
   "metadata": {
    "tags": []
   },
   "outputs": [],
   "source": [
    "import global_variables as g\n",
    "g.init()\n",
    "\n",
    "category=g.category"
   ]
  },
  {
   "attachments": {},
   "cell_type": "markdown",
   "id": "570eafe2-58e5-41a6-83c9-13a4080d2a7d",
   "metadata": {},
   "source": [
    "## Prepare list of file to load"
   ]
  },
  {
   "cell_type": "code",
   "execution_count": 3,
   "id": "4246100b-9951-4fda-9c3f-50536cc658aa",
   "metadata": {},
   "outputs": [
    {
     "name": "stdout",
     "output_type": "stream",
     "text": [
      "doc-engineering__total__wordcounts.csv à traiter\n",
      "\n"
     ]
    }
   ],
   "source": [
    "now = datetime.now()\n",
    " \n",
    "#parallelism =  4 \n",
    "\n",
    "if g.DEBUG_OL >= 2:\n",
    "    print(\"now =\", now)\n",
    "\n",
    "# dd/mm/YY H:M:S\n",
    "dt_string = now.strftime(\"%d/%m/%Y %H:%M:%S\")\n",
    "#print(\"date and time =\", dt_string)\n",
    "\n",
    "#category=\"doc-engineering\"\n",
    "#category=\"doc-consoles\"\n",
    "#category=\"doc-electro\"\n",
    "#category=\"doc-photo\"\n",
    "#category=\"doc-airbus\"\n",
    "#category=\"doc-tests\"\n",
    "#dirlist = os.listdir(category+'_*.csv')\n",
    "my_input_file=category+'__total__wordcounts.csv'\n",
    "\n",
    "\n",
    "#print(dirlist)\n",
    "#for i in range(len(dirlist)):\n",
    "#    dirlist[i]=''.join(dirlist[i].split())\n",
    "    \n",
    "if g.DEBUG_OL >= 1:\n",
    "    print(my_input_file,'à traiter\\n')"
   ]
  },
  {
   "cell_type": "code",
   "execution_count": 4,
   "id": "88311983-de4f-45b7-acfc-3485985cdad1",
   "metadata": {},
   "outputs": [
    {
     "data": {
      "text/html": [
       "<div>\n",
       "<style scoped>\n",
       "    .dataframe tbody tr th:only-of-type {\n",
       "        vertical-align: middle;\n",
       "    }\n",
       "\n",
       "    .dataframe tbody tr th {\n",
       "        vertical-align: top;\n",
       "    }\n",
       "\n",
       "    .dataframe thead th {\n",
       "        text-align: right;\n",
       "    }\n",
       "</style>\n",
       "<table border=\"1\" class=\"dataframe\">\n",
       "  <thead>\n",
       "    <tr style=\"text-align: right;\">\n",
       "      <th></th>\n",
       "      <th>words</th>\n",
       "      <th>count</th>\n",
       "    </tr>\n",
       "  </thead>\n",
       "  <tbody>\n",
       "    <tr>\n",
       "      <th>0</th>\n",
       "      <td>a330</td>\n",
       "      <td>74</td>\n",
       "    </tr>\n",
       "    <tr>\n",
       "      <th>1</th>\n",
       "      <td>aircraft</td>\n",
       "      <td>48</td>\n",
       "    </tr>\n",
       "    <tr>\n",
       "      <th>2</th>\n",
       "      <td>a380</td>\n",
       "      <td>39</td>\n",
       "    </tr>\n",
       "    <tr>\n",
       "      <th>3</th>\n",
       "      <td>dfs56687</td>\n",
       "      <td>15</td>\n",
       "    </tr>\n",
       "    <tr>\n",
       "      <th>4</th>\n",
       "      <td>a320</td>\n",
       "      <td>10</td>\n",
       "    </tr>\n",
       "    <tr>\n",
       "      <th>...</th>\n",
       "      <td>...</td>\n",
       "      <td>...</td>\n",
       "    </tr>\n",
       "    <tr>\n",
       "      <th>81</th>\n",
       "      <td>carbone</td>\n",
       "      <td>1</td>\n",
       "    </tr>\n",
       "    <tr>\n",
       "      <th>82</th>\n",
       "      <td>c00</td>\n",
       "      <td>1</td>\n",
       "    </tr>\n",
       "    <tr>\n",
       "      <th>83</th>\n",
       "      <td>plu</td>\n",
       "      <td>1</td>\n",
       "    </tr>\n",
       "    <tr>\n",
       "      <th>84</th>\n",
       "      <td>equivalence</td>\n",
       "      <td>1</td>\n",
       "    </tr>\n",
       "    <tr>\n",
       "      <th>85</th>\n",
       "      <td>10010</td>\n",
       "      <td>1</td>\n",
       "    </tr>\n",
       "  </tbody>\n",
       "</table>\n",
       "<p>86 rows × 2 columns</p>\n",
       "</div>"
      ],
      "text/plain": [
       "          words  count\n",
       "0          a330     74\n",
       "1      aircraft     48\n",
       "2          a380     39\n",
       "3      dfs56687     15\n",
       "4          a320     10\n",
       "..          ...    ...\n",
       "81      carbone      1\n",
       "82          c00      1\n",
       "83          plu      1\n",
       "84  equivalence      1\n",
       "85        10010      1\n",
       "\n",
       "[86 rows x 2 columns]"
      ]
     },
     "execution_count": 4,
     "metadata": {},
     "output_type": "execute_result"
    }
   ],
   "source": [
    "my_loaded_array = pd.read_csv(my_input_file,encoding='utf-8')\n",
    "df_words = my_loaded_array\n",
    "df_words"
   ]
  },
  {
   "cell_type": "code",
   "execution_count": 5,
   "id": "046581cb-1470-41c9-ab2d-40640f997451",
   "metadata": {},
   "outputs": [
    {
     "data": {
      "text/html": [
       "<iframe\n",
       "    scrolling=\"no\"\n",
       "    width=\"820px\"\n",
       "    height=\"620\"\n",
       "    src=\"iframe_figures/figure_5.html\"\n",
       "    frameborder=\"0\"\n",
       "    allowfullscreen\n",
       "></iframe>\n"
      ]
     },
     "metadata": {},
     "output_type": "display_data"
    }
   ],
   "source": [
    "n = 30\n",
    "pal = list(sns.color_palette(palette='Reds_r', n_colors=n).as_hex())\n",
    "\n",
    "import plotly.express as px\n",
    "fig = px.pie(df_words[0:30], values='count', names='words',\n",
    "             color_discrete_sequence=pal)\n",
    "\n",
    "fig.update_traces(textposition='outside', textinfo='percent+label', \n",
    "                  hole=.6, hoverinfo=\"label+percent+name\")\n",
    "\n",
    "fig.update_layout(width = 800, height = 600,\n",
    "                  margin = dict(t=0, l=0, r=0, b=0))\n",
    "import plotly.io as pio\n",
    "\n",
    "pio.renderers.default = 'iframe'\n",
    "fig.show()"
   ]
  },
  {
   "cell_type": "code",
   "execution_count": 6,
   "id": "62aaf046-a2b2-4081-bd6b-28c6337d5cc5",
   "metadata": {},
   "outputs": [
    {
     "data": {
      "text/html": [
       "<iframe\n",
       "    scrolling=\"no\"\n",
       "    width=\"100%\"\n",
       "    height=\"545px\"\n",
       "    src=\"iframe_figures/figure_6.html\"\n",
       "    frameborder=\"0\"\n",
       "    allowfullscreen\n",
       "></iframe>\n"
      ]
     },
     "metadata": {},
     "output_type": "display_data"
    }
   ],
   "source": [
    "import plotly.express as px\n",
    "\n",
    "aa= len(df_words)\n",
    "if aa < 100:\n",
    "    fin=aa\n",
    "else:\n",
    "    fin=100\n",
    "#print(df_words[0:fin])\n",
    "import plotly.express as px\n",
    "fig = px.treemap(df_words[0:100], path=[px.Constant(category), 'words'],\n",
    "                 values='count',\n",
    "                 color='count',\n",
    "                 color_continuous_scale='viridis',\n",
    "                 color_continuous_midpoint=np.average(df_words['count'])\n",
    "                )\n",
    "fig.update_layout(margin = dict(t=50, l=25, r=25, b=25))\n",
    "\n",
    "import plotly.io as pio\n",
    "pio.renderers.default = 'iframe'\n",
    "\n",
    "\n",
    "fig.show()"
   ]
  }
 ],
 "metadata": {
  "kernelspec": {
   "display_name": "Python 3 (ipykernel)",
   "language": "python",
   "name": "python3"
  },
  "language_info": {
   "codemirror_mode": {
    "name": "ipython",
    "version": 3
   },
   "file_extension": ".py",
   "mimetype": "text/x-python",
   "name": "python",
   "nbconvert_exporter": "python",
   "pygments_lexer": "ipython3",
   "version": "3.11.2"
  }
 },
 "nbformat": 4,
 "nbformat_minor": 5
}
