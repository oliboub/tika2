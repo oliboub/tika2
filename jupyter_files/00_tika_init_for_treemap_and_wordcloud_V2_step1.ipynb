{
 "cells": [
  {
   "cell_type": "markdown",
   "id": "4562c432-6ee5-4425-9267-b480439de483",
   "metadata": {
    "tags": []
   },
   "source": [
    "# test tika to convert documents in directory: category.\n",
    "- Files directory in category is set in global_variables.py"
   ]
  },
  {
   "cell_type": "markdown",
   "id": "9f2caa32-d441-488b-a0d2-1afcc661039d",
   "metadata": {},
   "source": [
    "# This program intends:\n",
    "## Step 1\n",
    "- To get multiple files in different formats, read text inside, even if it is pictures like jpog, tiff or png.<br>\n",
    "- To clean all generic words that are not necessary to define metadatas<br>\n",
    "- To remove duplicate metadata by file !<br>\n",
    "- To generate a file with all metadatas found<br>\n",
    "- To generate files named\n",
    "\n",
    " |name |description|\n",
    " |---|---|\n",
    " | **category__cloudword__lvl1.csv** | list of all metadata found on existing files in the directory, containing category and filenames |\n",
    " | **category_cloudword__dest1.csv** | list of all metadata found on existing files in the directory, without category and filenames. result to be used to draw a wordcloud |\n",
    "\n",
    "\n",
    "<br>\n",
    "## Step2\n",
    "- To Get file with metadatas previously create<br>\n",
    "- To remove first element of all lines (or to remove first column). Thsi column get the name of the source files of metadata.<br>\n",
    "- to create a cloudwords with metadatas. More the same metadata exists in more file, more the size of the word wil be big<br>\n",
    "<br>\n",
    "\n",
    "### Note: Hot to Convert pdf to tiff\n",
    "gs -o destination.tiff -r300 -sDEVICE=tiffg4 source.pdf\n",
    "gs -o eos7d-mk2-im-tiffg4-1.tiff -r200x200  -sDEVICE=tiffg4 -sPAPERSIZE=a4 -dFirstPage=2 -dLastPage=99 eos7d-mk2-im-fr.pdf"
   ]
  },
  {
   "cell_type": "code",
   "execution_count": null,
   "id": "fe66766c-4329-4c9e-b9e3-a5409f54cb85",
   "metadata": {
    "tags": []
   },
   "outputs": [],
   "source": [
    "import os\n",
    "import shutil\n",
    "from tika import parser\n",
    "from datetime import datetime\n",
    "import numpy as np\n",
    "import pandas as pd\n",
    "import re\n",
    "import time\n",
    "import psutil\n",
    "import os\n",
    "import signal\n",
    "from sys import platform\n",
    "\n",
    "#print(platform)\n",
    "\n",
    "start_time = time.time()"
   ]
  },
  {
   "cell_type": "code",
   "execution_count": null,
   "id": "da6553a6-2412-4aea-a00a-660563ba4071",
   "metadata": {
    "tags": []
   },
   "outputs": [],
   "source": [
    "import global_variables as g\n",
    "g.init()\n",
    "\n",
    "category=g.category"
   ]
  },
  {
   "cell_type": "code",
   "execution_count": null,
   "id": "5f163ed5-56ef-41d2-93b7-954b6a4ed883",
   "metadata": {},
   "outputs": [],
   "source": [
    "now = datetime.now()\n",
    " \n",
    "parallelism =  4 \n",
    "\n",
    "if g.DEBUG_OL >= 2:\n",
    "    print(\"now =\", now)\n",
    "\n",
    "# dd/mm/YY H:M:S\n",
    "dt_string = now.strftime(\"%d/%m/%Y %H:%M:%S\")\n",
    "#print(\"date and time =\", dt_string)\n",
    "\n",
    "#category=\"doc-engineering\"\n",
    "#category=\"doc-consoles\"\n",
    "#category=\"doc-electro\"\n",
    "#category=\"doc-photo\"\n",
    "#category=\"doc-airbus\"\n",
    "#category=\"doc-tests\"\n",
    "dirlist = os.listdir('../'+category)\n",
    "\n",
    "#print(dirlist)\n",
    "#for i in range(len(dirlist)):\n",
    "#    dirlist[i]=''.join(dirlist[i].split())\n",
    "    \n",
    "if g.DEBUG_OL >= 1:\n",
    "    print(len(dirlist),' fichiers à traiter\\n', dirlist)"
   ]
  },
  {
   "cell_type": "markdown",
   "id": "8acfdd64-a05c-4602-a240-7e9195a9b346",
   "metadata": {},
   "source": [
    "------\n",
    "# Retrieve unecessary words"
   ]
  },
  {
   "cell_type": "code",
   "execution_count": null,
   "id": "2892dd26-519c-4b53-b165-74b4b4c07757",
   "metadata": {
    "tags": []
   },
   "outputs": [],
   "source": [
    "#STOP_WORDS_FILE=\"stop_words_french.txt\"\n",
    "#STOP_WORDS_FILE=\"stop_words_english.txt\"\n",
    "STOP_WORDS_FILE=\"stop_all_words.txt\"\n",
    "\n",
    "with open(STOP_WORDS_FILE, 'r', encoding='UTF-8') as file:\n",
    "    stop_words = file.read().splitlines()\n",
    "\n",
    "if g.DEBUG_OL >= 2:\n",
    "    print(stop_words)\n"
   ]
  },
  {
   "cell_type": "code",
   "execution_count": null,
   "id": "eaf24f15-a9c1-4651-bd8b-cff3749b3e9d",
   "metadata": {},
   "outputs": [],
   "source": [
    "output_directory=category+'_results'\n",
    "message=\"le répertoire : \"+output_directory+\" va etre suprimé. Voulez-vous continuer [Y,n]\"\n",
    "attention = input(message)\n",
    "if attention == \"Y\":\n",
    "    try:\n",
    "        shutil.rmtree(output_directory)\n",
    "    except OSError as e:\n",
    "        print(\"Error: %s : %s\" % (output_directory, e.strerror))    \n",
    "    os.mkdir(output_directory)\n",
    "\n",
    "if g.DEBUG_OL >= 2:\n",
    "    print(output_directory,' is created')\n",
    "    \n",
    "file_lvl1=output_directory+'/'+category+'__cloudword'+'__level1.csv'"
   ]
  },
  {
   "cell_type": "markdown",
   "id": "58a6724f-d321-4569-a2ba-28de30ecbdb0",
   "metadata": {},
   "source": [
    "------\n",
    "# Functions\n",
    "## Retire les mots standards de la liste"
   ]
  },
  {
   "cell_type": "code",
   "execution_count": null,
   "id": "bb19a9dd-7e53-4815-84f8-3cb1870be8f3",
   "metadata": {
    "tags": []
   },
   "outputs": [],
   "source": [
    "def loop_check_stop_words(liste,word):\n",
    "    a=1\n",
    "    while a == 1:\n",
    "        try:\n",
    "            aaaa=liste.index(word)\n",
    "            liste.pop(aaaa)\n",
    "            if g.DEBUG_OL >= 2:\n",
    "                print(liste)\n",
    "        except:\n",
    "            a = 0\n",
    "    return(liste)"
   ]
  },
  {
   "cell_type": "markdown",
   "id": "3ea01897-8ea4-42c8-9e2b-16904830011c",
   "metadata": {},
   "source": [
    "## Kill  le proces java utilisé par tika parser pour libérer de la mémoire à chaque fichier traité"
   ]
  },
  {
   "cell_type": "code",
   "execution_count": null,
   "id": "b03d103c-4be0-491f-a5af-a509ae7ed033",
   "metadata": {
    "tags": []
   },
   "outputs": [],
   "source": [
    "def kill_linux_java_process():\n",
    "    import psutil\n",
    "    import os\n",
    "    import signal\n",
    "\n",
    "    PROCNAME = \"java\"\n",
    "    aa=0\n",
    "    bb=0\n",
    "    for proc in psutil.process_iter():\n",
    "        # check whether the process name matches\n",
    "        if proc.name() == PROCNAME:\n",
    "            aa=proc.pid\n",
    "            if int(aa) > int(bb):\n",
    "                bb=aa\n",
    "    if g.DEBUG_OL >= 2:\n",
    "        print(bb)\n",
    "    os.kill(bb,signal.SIGTERM)\n",
    "#    time.sleep(5)"
   ]
  },
  {
   "cell_type": "markdown",
   "id": "f637ef13-c4ba-428f-8197-626ec1bd97cb",
   "metadata": {},
   "source": [
    "## Converti le temps en heure, minute et secondes"
   ]
  },
  {
   "cell_type": "code",
   "execution_count": null,
   "id": "5016094f-8730-401a-8730-74efec247a35",
   "metadata": {
    "tags": []
   },
   "outputs": [],
   "source": [
    "def convert_to_preferred_format(sec):\n",
    "    sec = sec % (24 * 3600)\n",
    "    hour = sec // 3600\n",
    "    sec %= 3600\n",
    "    min = sec // 60\n",
    "    sec %= 60\n",
    "    if g.DEBUG_OL >= 2:\n",
    "        print(\"seconds value in hours:\",hour)\n",
    "        print(\"seconds value in minutes:\",min)\n",
    "    return (\"%02d:%02d:%02d\") % (hour, min, sec)"
   ]
  },
  {
   "cell_type": "markdown",
   "id": "4fae0e3f-4772-4836-af6a-54383ec338db",
   "metadata": {},
   "source": [
    "## Creation d'une liste avec tous les mots clés trouvés dans les fichiers"
   ]
  },
  {
   "cell_type": "code",
   "execution_count": null,
   "id": "941361be-ea6a-436f-befa-1bd33777792d",
   "metadata": {
    "tags": []
   },
   "outputs": [],
   "source": [
    "my_full_liste=[]\n",
    "start_func_time = time.time()\n",
    "print(\"Lancement... Soyez patient...\")\n",
    "print('Traitement de ',len(dirlist),' fichiers')\n",
    "compteur=0\n",
    "for i in dirlist:\n",
    "    df_file_wordcount=output_directory+'/'+category+'__'+i+'__wordscount.csv'\n",
    "    if g.DEBUG_OL >= 1:\n",
    "        print(i, 'En cours...')\n",
    "    compteur +=1\n",
    "    loop_time = time.time()\n",
    "    xx=[]\n",
    "\n",
    "    \n",
    "    liste =[]\n",
    "    str_match=[]\n",
    "#    print(\"-----------------------\\n\",i)\n",
    "    abspath = '../'+category\n",
    "#    print(abspath)\n",
    "    full_dir=os.path.abspath(abspath)\n",
    "#    print(full_dir)\n",
    "    aa=full_dir+'/'+i\n",
    "    inode=os.stat(aa).st_ino\n",
    "#    print(full_dir+'/'+i,\" en cours...\")\n",
    "    parsed_file = parser.from_file(aa,requestOptions=({'timeout': 1000}))\n",
    "    my_metadata=parsed_file['metadata']\n",
    "    my_content = parsed_file['content']\n",
    "    if g.DEBUG_OL >= 2:\n",
    "#        print('my_metadata:',my_metadata)\n",
    "        print('my_content:',my_content)\n",
    "       \n",
    "    result = re.sub('[^A-Za-z0-9°éèàçùïœæ]+', ' ', my_content)\n",
    "    result = result.replace('\\n', '').lower()    \n",
    "\n",
    "    #    my_content=my_content.replace('.',' ').replace(',',' ').replace('…',' ').replace('_',' ').replace('-',' ').replace(':',' ').replace('(','').replace(')','').replace('\\\"','')\n",
    "#    result=' '.join(my_content.lower().split(' '))\n",
    " \n",
    "#    if g.DEBUG_OL >= 2:\n",
    "        #print('my_content:',my_content)\n",
    "#    result=' '.join(my_content.lower().split())\n",
    "    \n",
    "#    result=result1.replace('\\x00','\\x0A')\n",
    "\n",
    "    if g.DEBUG_OL >= 2:\n",
    "        print('result:',result)\n",
    "    liste = result.split()\n",
    "    \n",
    "    if g.DEBUG_OL >= 2:\n",
    "        print('----->liste:',liste)\n",
    "\n",
    "    for h in stop_words:\n",
    "        try:\n",
    "            liste=loop_check_stop_words(liste,h)\n",
    "        except:\n",
    "            pass\n",
    "\n",
    "        \n",
    "  \n",
    "    liste1=list(set(liste)) # remove duplicate\n",
    "    if g.DEBUG_OL >= 2:\n",
    "        print(liste1)\n",
    "    count_words = [liste.count(cw) for cw in liste1]\n",
    "    if g.DEBUG_OL >= 2:\n",
    "        print(cw,count_words)\n",
    "\n",
    "    liste=liste1\n",
    "    # save fiel with wordcounts\n",
    "    df = pd.DataFrame(zip(liste, count_words), columns=['words','count'])\n",
    "    df.sort_values('count', ascending=False, inplace=True)\n",
    "    df.to_csv(df_file_wordcount,header=True,index=False,encoding='utf-8')\n",
    "    \n",
    "    jj =''.join(i.split())\n",
    "    if g.DEBUG_OL >= 2:\n",
    "        print(jj)\n",
    "        print('liste avant:', liste)    \n",
    "    liste.insert(0,jj) # Add file name as first element    \n",
    "    liste.insert(0,category) # add category as second element\n",
    "  \n",
    "    if g.DEBUG_OL >= 2:\n",
    "        print('liste: après',liste)\n",
    "    if g.DEBUG_OL >= 1:\n",
    "        print(compteur,' sur ',len(dirlist),' - fichier:',i, 'Terminé en %s seconds  '% (time.time() - loop_time))\n",
    "\n",
    "    if g.DEBUG_OL >=2:\n",
    "        print('---------->liste3:',liste,'\\n---------\\n')\n",
    "    \n",
    "    if platform == \"linux\" or platform == \"linux2\":\n",
    "        kill_linux_java_process()\n",
    "        time.sleep(2)\n",
    "\n",
    "    my_full_liste.append(liste)\n",
    "\n",
    "curr_time = time.time() - start_func_time\n",
    "returned_time=convert_to_preferred_format(curr_time)\n",
    "\n",
    "print('Processus terminé en,',returned_time[0:2],'heure(s)',returned_time[3:5],'minute(s)',returned_time[6:8],'seconds' )\n",
    "       \n"
   ]
  },
  {
   "cell_type": "markdown",
   "id": "c37ac03b-2bed-4014-b514-4e51bc435296",
   "metadata": {},
   "source": [
    "------\n",
    "# Converti liste en fichier et compte le nombre de colonnes max"
   ]
  },
  {
   "cell_type": "code",
   "execution_count": null,
   "id": "b923bfbd-6fef-45bc-9b1f-707d5adf4584",
   "metadata": {},
   "outputs": [],
   "source": [
    "loop_time = time.time()\n",
    "\n",
    "cloud_word_source = open(file_lvl1, 'w',encoding='utf-8')\n",
    "if g.DEBUG_OL >= 2:\n",
    "    print(my_full_liste)\n",
    "print(\"Lancement...\")\n",
    "max_columns = 0\n",
    "for k in my_full_liste:\n",
    "    result=','.join(k)\n",
    "    if g.DEBUG_OL >= 2:\n",
    "        print(result)\n",
    "    size=len(k)\n",
    "    if g.DEBUG_OL >= 2:\n",
    "        print(size)\n",
    "    if size > max_columns:\n",
    "        max_columns=size\n",
    "    cloud_word_source.write(result)\n",
    "    cloud_word_source.write('\\x0A')\n",
    "    if g.DEBUG_OL >= 1:\n",
    "        print(k[1],\" Traité !\")\n",
    "    if g.DEBUG_OL >= 2:\n",
    "        print('max columns:',max_columns)\n",
    "cloud_word_source.close()\n",
    "if g.DEBUG_OL >= 1:\n",
    "    curr_time = time.time() - loop_time\n",
    "    returned_time=convert_to_preferred_format(curr_time)\n",
    "    print('Processus terminé en,',returned_time[0:2],'heure(s)',returned_time[3:5],'minute(s)',returned_time[6:8],'seconds' )\n",
    "\n",
    "print('***** Fini!! *****')"
   ]
  },
  {
   "cell_type": "markdown",
   "id": "0eaf7ff9-4ad9-43a8-b38c-b397e2c1724a",
   "metadata": {},
   "source": [
    "-------\n",
    "# extrait les 2 premières colonnes du fichier pour enlever le noms des fichiers avant génération du nuage de mots"
   ]
  },
  {
   "cell_type": "code",
   "execution_count": null,
   "id": "9c71c6af-9071-4fd0-949d-b3df3d520063",
   "metadata": {
    "tags": []
   },
   "outputs": [],
   "source": [
    "import pandas as pd\n",
    "import numpy as np\n",
    "print(\"Lancement... Soyez patient...\")\n",
    "input_file = file_lvl1\n",
    "output_file = output_directory+'/'+category+'__cloudword'+'__dest1.csv'\n",
    "\n",
    "\n",
    "col_headers= ['file']\n",
    "for aa in range((max_columns)-1):\n",
    "    col_headers.append('M'+str(aa))\n",
    "\n",
    "if g.DEBUG_OL >= 2:\n",
    "    print(col_headers)\n",
    "    \n",
    "\n",
    "my_loaded_array = pd.read_csv(input_file,dtype=str,header=None,names=col_headers,encoding='utf-8')\n",
    "\n",
    "my_loaded_array=my_loaded_array.fillna('')\n",
    "my_loaded_array\n",
    "\n",
    "array_values = my_loaded_array.values\n",
    "array_values\n",
    "\n",
    "cloud_word_dest = open(output_file, 'w',encoding='utf-8')\n",
    "toto_values=array_values[:,2:]\n",
    "#print(toto_values)\n",
    "\n",
    "for k in range(len(toto_values)):\n",
    "    if g.DEBUG_OL >= 2:\n",
    "        print(\"k:\",k,'\\tligne:',toto_values[k,:])\n",
    "    \n",
    "    result=','.join(toto_values[k,:])\n",
    "    if g.DEBUG_OL >= 2:\n",
    "        print('result:',result)\n",
    "    cloud_word_dest.write(result)\n",
    "    cloud_word_dest.write('\\x0A')\n",
    "cloud_word_dest.close()\n",
    "\n",
    "print('***** fichier:',output_file,' généré.') "
   ]
  },
  {
   "cell_type": "code",
   "execution_count": null,
   "id": "b6ef14e4-6c32-497c-8ac2-db61c38e8e49",
   "metadata": {
    "tags": []
   },
   "outputs": [],
   "source": [
    "curr_time = time.time() - start_time\n",
    "returned_time=convert_to_preferred_format(curr_time)\n",
    "print('Processus complet traité en,',returned_time[0:2],'heure(s)',returned_time[3:5],'minute(s)',returned_time[6:8],'seconds' )"
   ]
  },
  {
   "cell_type": "markdown",
   "id": "97544ed7-a644-4bbc-a87b-a1decdb200f2",
   "metadata": {
    "tags": []
   },
   "source": [
    "------\n",
    "# generate cloudwords"
   ]
  },
  {
   "cell_type": "code",
   "execution_count": null,
   "id": "944e48a5-7a68-42b2-86cb-6a53b62e8b3b",
   "metadata": {
    "tags": []
   },
   "outputs": [],
   "source": [
    "from wordcloud import WordCloud , ImageColorGenerator\n",
    "import matplotlib.pyplot as plt\n",
    "import random\n",
    "from PIL import Image\n",
    "import numpy as np\n",
    "MY_DPI = 96 # (site: https://fr.infobyip.com/detectmonitordpi.php)\n",
    "image_mask = np.array(Image.open(\"airbus3.jpg\"))\n",
    "#print(matrix_image_mask)\n",
    "if g.DEBUG_OL >= 2:\n",
    "    print(image_mask.shape)\n",
    "image_colors=ImageColorGenerator(image_mask)"
   ]
  },
  {
   "cell_type": "code",
   "execution_count": null,
   "id": "fe58aa09-b1c5-41b1-812b-33e00c0aa060",
   "metadata": {
    "tags": []
   },
   "outputs": [],
   "source": [
    "def generate_cloud_words(TEXT_FILE_PATH):\n",
    "    from wordcloud import WordCloud \n",
    "    import matplotlib.pyplot as plt\n",
    "    # constantes\n",
    "    MY_DPI = 96 # (site: https://fr.infobyip.com/detectmonitordpi.php)\n",
    "\n",
    "#    TEXT_FILE_PATH='cloudword_source.txt'\n",
    "    with open(TEXT_FILE_PATH, 'r',encoding='utf-8') as file:\n",
    "        text= file.read()\n",
    "#    print(text)\n",
    "    tmp_file=text.split('\\n')\n",
    "#    print(len(tmp_file)-1)\n",
    "\n",
    "    STOP_WORDS_FILE=\"stop_words_french.txt\"\n",
    "    #STOP_WORDS_FILE=\"stop_words_english.txt\"\n",
    "\n",
    "    with open(STOP_WORDS_FILE, 'r',encoding='utf-8') as file:\n",
    "        stop_words = file.read().splitlines()\n",
    "    \n",
    "    wc = WordCloud(\n",
    "        background_color=\"white\",\n",
    "        width =1920,\n",
    "        height=1080,\n",
    "        margin=10,\n",
    "#        mask=image_mask,\n",
    "#        max_words=100,\n",
    "        stopwords=stop_words,\n",
    "        repeat=False,\n",
    "        collocations=False\n",
    "    ).generate(text)\n",
    "\n",
    "    plt.figure(figsize=(1920/MY_DPI,1080/MY_DPI))\n",
    "\n",
    "\n",
    "#    plt.imshow(wc.recolor(color_func=image_colors),interpolation='bilinear')\n",
    "    plt.imshow(wc,interpolation='bilinear')\n",
    "    plt.axis('off') # enleve les axes\n",
    "    plt.margins(x=0, y=0)\n",
    "    plt.savefig(output_directory+'/'+category+'__cloudword__dest1.png', dpi=MY_DPI)\n",
    "    return(len(tmp_file)-1)"
   ]
  },
  {
   "cell_type": "code",
   "execution_count": null,
   "id": "b7726ae7-3825-49a9-80cc-8e1e98682e71",
   "metadata": {
    "tags": []
   },
   "outputs": [],
   "source": [
    "files_qtt=generate_cloud_words(output_file)\n",
    "print(\"Nombre de fichiers traités:\",files_qtt)"
   ]
  },
  {
   "cell_type": "code",
   "execution_count": null,
   "id": "68b87d86-232f-4477-9aea-6f0c718e094f",
   "metadata": {
    "tags": []
   },
   "outputs": [],
   "source": [
    "#if g.DEBUG_OL >= 1:\n",
    "print(os.getcwd(),__name__,'imported')"
   ]
  }
 ],
 "metadata": {
  "kernelspec": {
   "display_name": "Python 3 (ipykernel)",
   "language": "python",
   "name": "python3"
  },
  "language_info": {
   "codemirror_mode": {
    "name": "ipython",
    "version": 3
   },
   "file_extension": ".py",
   "mimetype": "text/x-python",
   "name": "python",
   "nbconvert_exporter": "python",
   "pygments_lexer": "ipython3",
   "version": "3.11.2"
  }
 },
 "nbformat": 4,
 "nbformat_minor": 5
}
