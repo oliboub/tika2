{
 "cells": [
  {
   "cell_type": "markdown",
   "id": "8db5f69d-d57b-4e21-8645-4886bf1ed4ab",
   "metadata": {},
   "source": [
    "------\n",
    "# Test de recherche d'un mot du cloud dans les fichiers"
   ]
  },
  {
   "cell_type": "code",
   "execution_count": null,
   "id": "fe66766c-4329-4c9e-b9e3-a5409f54cb85",
   "metadata": {
    "tags": []
   },
   "outputs": [],
   "source": [
    "import os\n",
    "from tika import parser\n",
    "from datetime import datetime\n",
    "import numpy as np\n",
    "from IPython.display import display"
   ]
  },
  {
   "cell_type": "code",
   "execution_count": null,
   "id": "c6d4c604-9dc9-4225-a9b0-0d51ce5a1bc8",
   "metadata": {
    "tags": []
   },
   "outputs": [],
   "source": [
    "import global_variables as g\n",
    "g.init()\n",
    "\n",
    "category=g.category\n",
    "output_directory=category+'_results'"
   ]
  },
  {
   "cell_type": "code",
   "execution_count": null,
   "id": "5f163ed5-56ef-41d2-93b7-954b6a4ed883",
   "metadata": {
    "tags": []
   },
   "outputs": [],
   "source": [
    "now = datetime.now()\n",
    " \n",
    "if g.DEBUG_OL >= 2:\n",
    "    print(\"now =\", now)\n",
    "\n",
    "# dd/mm/YY H:M:S\n",
    "dt_string = now.strftime(\"%d/%m/%Y %H:%M:%S\")\n",
    "#print(\"date and time =\", dt_string)\n"
   ]
  },
  {
   "cell_type": "code",
   "execution_count": null,
   "id": "e670e73a-dcec-48fc-a740-cde855c2134c",
   "metadata": {
    "tags": []
   },
   "outputs": [],
   "source": [
    "#recherche_mot = 'bleed'.lower()\n",
    "#recherche_mot = 'action'.lower()\n",
    "#recherche_mot = 'temperature'.lower()\n",
    "#recherche_mot = 'bar'.lower()\n",
    "#recherche_mot = 'carbone'.lower()\n",
    "recherche_mot = 'aluminium'.lower()\n",
    "#recherche_mot = 'tire'.lower()"
   ]
  },
  {
   "cell_type": "markdown",
   "id": "18679f35-3916-4834-9792-94e3978cd8de",
   "metadata": {},
   "source": [
    "## Nettoyage du fichier et retrait des colonnes category et file"
   ]
  },
  {
   "cell_type": "code",
   "execution_count": null,
   "id": "1778c451-bf7e-4713-8961-1a9c99822619",
   "metadata": {
    "tags": []
   },
   "outputs": [],
   "source": [
    "import pandas as pd\n",
    "import numpy as np\n",
    "import csv\n",
    "\n",
    "\n",
    "#category='doc-photo'\n",
    "#category='doc-engineering'\n",
    "#category=\"doc-airbus\"\n",
    "\n",
    "input_file = output_directory+'/'+category+'__cloudword__level1.csv'\n",
    "\n",
    "output_file = output_directory+'/'+category+'__cloudword__level2.csv'\n",
    "output_dest2 = output_directory+'/'+category+'__cloudword__dest2.csv'\n",
    "\n",
    "if g.DEBUG_OL >= 1:\n",
    "    print('input_file: ',input_file)\n",
    "    print('output_file:',output_file)\n",
    "\n",
    "reader = csv.reader(open(input_file, encoding='UTF-8'))\n",
    "\n",
    "max_columns=0\n",
    "\n",
    "for row in reader:\n",
    "    if g.DEBUG_OL >= 2:\n",
    "        print(row)\n",
    "        print(len(row),row)\n",
    "    if len(row) > max_columns:\n",
    "        max_columns=len(row)\n",
    "print(\"max_columns:\",max_columns)"
   ]
  },
  {
   "cell_type": "code",
   "execution_count": null,
   "id": "7705c86f-a852-435e-90ed-1c4a4bd0e09d",
   "metadata": {
    "tags": []
   },
   "outputs": [],
   "source": [
    "reader = csv.reader(open(input_file, encoding='UTF-8'))\n",
    "numlines = len(list(reader))\n",
    "if g.DEBUG_OL >= 1:\n",
    "    print(\"Lines:\",numlines)"
   ]
  },
  {
   "cell_type": "markdown",
   "id": "e423f295-9cb6-4d08-8a4e-1fa63a3af97c",
   "metadata": {},
   "source": [
    "## Create level2 file top get file names"
   ]
  },
  {
   "cell_type": "code",
   "execution_count": null,
   "id": "af484093-cce6-43f2-ac74-113ec6bd9444",
   "metadata": {
    "tags": []
   },
   "outputs": [],
   "source": [
    "col_headers= ['category','file']\n",
    "for aa in range(max_columns-1):\n",
    "    col_headers.append('M'+str(aa))\n",
    "\n",
    "if g.DEBUG_OL >= 2:\n",
    "    print('Col_headers:',col_headers)\n",
    "    \n",
    "\n",
    "#my_loaded_array = pd.read_csv(input_file,dtype=str,header=None,names=col_headers)\n",
    "my_loaded_array = pd.read_csv(input_file,dtype=str,names=col_headers)\n",
    "\n",
    "my_loaded_array=my_loaded_array.fillna('')\n",
    "if g.DEBUG_OL >= 2:\n",
    "    display(my_loaded_array)\n",
    "    \n",
    "array_values = my_loaded_array.values\n",
    "if g.DEBUG_OL >= 2:\n",
    "    print(array_values)\n",
    "\n",
    "if g.DEBUG_OL >= 2:\n",
    "    print(recherche_mot)\n",
    "\n",
    "toto=array_values[:,0:max_columns] == recherche_mot\n",
    "if g.DEBUG_OL >= 2:\n",
    "    print(toto)\n",
    "    \n",
    "cloud_word_lvl2 = open(output_file, 'w', encoding='UTF-8')\n",
    "coltitle= ','.join(col_headers)\n",
    "cloud_word_lvl2.write(coltitle)\n",
    "cloud_word_lvl2.write('\\x0A')\n",
    "for i in range(my_loaded_array.shape[0]):\n",
    "#    print(i,'\\t', toto[i,:])\n",
    "    if True in toto[i,:]:\n",
    "        if g.DEBUG_OL >= 2:\n",
    "            print(i,'OK')\n",
    "            print(array_values[i,0:])\n",
    "        TEMPstring = ','.join(array_values[i,:])\n",
    "        if g.DEBUG_OL >= 2:\n",
    "            print(TEMPstring)\n",
    "        cloud_word_lvl2.write(TEMPstring)\n",
    "        cloud_word_lvl2.write('\\x0A')\n",
    "#    else:\n",
    "#        if g.DEBUG_OL >= 2:\n",
    "#            print(i,'Not OK',array_values[i,0:])\n",
    "        \n",
    "cloud_word_lvl2.close()\n",
    "\n",
    "print('***** Fini! fichier:',output_file,' généré *****')"
   ]
  },
  {
   "cell_type": "markdown",
   "id": "49e62350-5eb6-4922-b359-77e5d87d8373",
   "metadata": {},
   "source": [
    "## Create dest2 file for cloudword"
   ]
  },
  {
   "cell_type": "code",
   "execution_count": null,
   "id": "769f0695-d76f-445e-aef7-f7d62dd92ba3",
   "metadata": {
    "tags": []
   },
   "outputs": [],
   "source": [
    "my_loaded_array = pd.read_csv(output_file,dtype=str)\n",
    "my_loaded_array=my_loaded_array.drop(['category'], axis=1)\n",
    "my_loaded_array=my_loaded_array.drop(['file'], axis=1)\n",
    "\n",
    "num_lines=len(my_loaded_array)\n",
    "if g.DEBUG_OL >= 1:\n",
    "    print(num_lines)\n",
    "    display(my_loaded_array)\n",
    "\n",
    "my_loaded_array=my_loaded_array.fillna('')\n",
    "if g.DEBUG_OL >= 1:\n",
    "    display(my_loaded_array)\n",
    "    \n",
    "array_values = my_loaded_array.values\n",
    "if g.DEBUG_OL >= 1:\n",
    "    print(array_values)\n",
    "    \n",
    "cloud_word_dest2 = open(output_dest2, 'w', encoding='UTF-8')\n",
    "\n",
    "for k in range(num_lines):\n",
    "    if g.DEBUG_OL >= 2:\n",
    "        print(\"k:\",k)\n",
    "        print('ligne:',array_values[k])\n",
    "   \n",
    "    result=','.join(array_values[k])\n",
    "    if g.DEBUG_OL >= 2:\n",
    "        print('result:',result)\n",
    "    cloud_word_dest2.write(result)\n",
    "    cloud_word_dest2.write('\\x0A')\n",
    "\n",
    "cloud_word_dest2.close()\n",
    "\n",
    "print('***** Fini! fichier:',output_dest2,' généré *****')"
   ]
  },
  {
   "cell_type": "raw",
   "id": "5666b4a5-8dd1-4a87-bc31-b5c83c04d5e7",
   "metadata": {
    "tags": []
   },
   "source": [
    "print(my_loaded_array.shape)\n",
    "print(my_loaded_array.shape[0])\n",
    "print(my_loaded_array.shape[1])\n"
   ]
  },
  {
   "cell_type": "markdown",
   "id": "cff548d7-ecd5-4a70-84e0-0af7e7861694",
   "metadata": {
    "tags": []
   },
   "source": [
    "------\n",
    "# generate cloudwords"
   ]
  },
  {
   "cell_type": "code",
   "execution_count": null,
   "id": "944e48a5-7a68-42b2-86cb-6a53b62e8b3b",
   "metadata": {
    "tags": []
   },
   "outputs": [],
   "source": [
    "from wordcloud import WordCloud , ImageColorGenerator\n",
    "import matplotlib.pyplot as plt\n",
    "import random\n",
    "from PIL import Image\n",
    "import numpy as np\n",
    "MY_DPI = 96 # (site: https://fr.infobyip.com/detectmonitordpi.php)\n",
    "image_mask = np.array(Image.open(\"airbus3.jpg\"))\n",
    "#print(matrix_image_mask)\n",
    "if g.DEBUG_OL >= 2:\n",
    "    print(image_mask.shape)\n",
    "image_colors=ImageColorGenerator(image_mask)"
   ]
  },
  {
   "cell_type": "code",
   "execution_count": null,
   "id": "529118fc-f404-4730-b1aa-b51447750930",
   "metadata": {
    "tags": []
   },
   "outputs": [],
   "source": [
    "def generate_cloud_words(TEXT_FILE_PATH):\n",
    "    from wordcloud import WordCloud \n",
    "    import matplotlib.pyplot as plt\n",
    "    # constantes\n",
    "    MY_DPI = 96 # (site: https://fr.infobyip.com/detectmonitordpi.php)\n",
    "\n",
    "#    TEXT_FILE_PATH='cloudword_source.txt'\n",
    "    with open(TEXT_FILE_PATH, 'r', encoding='UTF-8') as file:\n",
    "        text= file.read()\n",
    "#    print(text)\n",
    "    tmp_file=text.split('\\n')\n",
    "    STOP_WORDS_FILE=\"stop_words_french.txt\"\n",
    "    #STOP_WORDS_FILE=\"stop_words_english.txt\"\n",
    "\n",
    "    with open(STOP_WORDS_FILE, 'r', encoding='UTF-8') as file:\n",
    "        stop_words = file.read().splitlines()\n",
    "    \n",
    "    wc = WordCloud(\n",
    "        background_color=\"white\",\n",
    "        width =1920,\n",
    "        height=1080,\n",
    "        margin=10,\n",
    "#        mask=image_mask,\n",
    "        max_words=100,\n",
    "        stopwords=stop_words,\n",
    "        repeat=False,\n",
    "        collocations=False\n",
    "    ).generate(text)\n",
    "\n",
    "    plt.figure(figsize=(1920/MY_DPI,1080/MY_DPI))\n",
    "\n",
    "\n",
    "    plt.imshow(wc.recolor(color_func=image_colors),interpolation='bilinear')\n",
    "    plt.axis('off') # enleve les axes\n",
    "    plt.margins(x=0, y=0)\n",
    "    plt.savefig(output_directory+'/'+category+'__cloudwords__dest2.png', dpi=MY_DPI)\n",
    "    return(len(tmp_file)-1)"
   ]
  },
  {
   "cell_type": "code",
   "execution_count": null,
   "id": "54760fe0-1b54-42fe-bac4-65510300ba1b",
   "metadata": {
    "tags": []
   },
   "outputs": [],
   "source": [
    "files_qtt=generate_cloud_words(output_dest2)\n",
    "print(\"Nombre de fichiers traités:\",files_qtt)"
   ]
  },
  {
   "cell_type": "code",
   "execution_count": null,
   "id": "68b87d86-232f-4477-9aea-6f0c718e094f",
   "metadata": {
    "tags": []
   },
   "outputs": [],
   "source": [
    "#if g.DEBUG_OL >= 1:\n",
    "print(os.getcwd(),__name__,'imported')"
   ]
  },
  {
   "cell_type": "code",
   "execution_count": null,
   "id": "565bdf5d-9a2c-4583-b239-36441d402054",
   "metadata": {},
   "outputs": [],
   "source": []
  }
 ],
 "metadata": {
  "kernelspec": {
   "display_name": "Python 3 (ipykernel)",
   "language": "python",
   "name": "python3"
  },
  "language_info": {
   "codemirror_mode": {
    "name": "ipython",
    "version": 3
   },
   "file_extension": ".py",
   "mimetype": "text/x-python",
   "name": "python",
   "nbconvert_exporter": "python",
   "pygments_lexer": "ipython3",
   "version": "3.11.2"
  }
 },
 "nbformat": 4,
 "nbformat_minor": 5
}
