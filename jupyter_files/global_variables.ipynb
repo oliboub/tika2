{
 "cells": [
  {
   "cell_type": "markdown",
   "id": "a9668293-0b18-421c-ab80-b4167514b40c",
   "metadata": {},
   "source": [
    "# global_variables"
   ]
  },
  {
   "cell_type": "code",
   "execution_count": null,
   "id": "c62bbf0c-d1a0-4103-8229-0f7a62bc8688",
   "metadata": {},
   "outputs": [],
   "source": [
    "import os\n",
    "\n",
    "def init():\n",
    "    global DEBUG_OL\n",
    "    DEBUG_OL=1\n",
    "\n",
    "    # DEBUG_OL\n",
    "    # 0 means no print\n",
    "    # 1 means print call to function only\n",
    "    # 2 means print all\n",
    "    # -1 Special cases\n",
    "\n",
    "    \n",
    "    global FONT\n",
    "    FONT='Helvetica 11'\n",
    "    \n",
    "    global THEME\n",
    "    THEME = 'LightBlue2'\n",
    "\n",
    "    global category\n",
    "    category=\"doc-engineering\"\n",
    "    #category=\"doc-consoles\"\n",
    "    #category=\"doc-electro\"\n",
    "    #category=\"doc-photo\"\n",
    "    #category=\"doc-airbus\"\n",
    "    #category=\"doc-tests\""
   ]
  },
  {
   "cell_type": "code",
   "execution_count": null,
   "id": "06aff827-3389-480e-8402-68ec21caa6b2",
   "metadata": {},
   "outputs": [],
   "source": [
    "#if g.DEBUG_OL >= 1:\n",
    "print(os.getcwd(),__name__,'imported')"
   ]
  }
 ],
 "metadata": {
  "kernelspec": {
   "display_name": "Python 3 (ipykernel)",
   "language": "python",
   "name": "python3"
  },
  "language_info": {
   "codemirror_mode": {
    "name": "ipython",
    "version": 3
   },
   "file_extension": ".py",
   "mimetype": "text/x-python",
   "name": "python",
   "nbconvert_exporter": "python",
   "pygments_lexer": "ipython3",
   "version": "3.11.2"
  }
 },
 "nbformat": 4,
 "nbformat_minor": 5
}
